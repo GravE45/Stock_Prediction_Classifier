{
 "cells": [
  {
   "cell_type": "code",
   "execution_count": 1,
   "metadata": {},
   "outputs": [
    {
     "name": "stdout",
     "output_type": "stream",
     "text": [
      "Fitting 3 folds for each of 18 candidates, totalling 54 fits\n",
      "[[1515  789]\n",
      " [ 722 1588]]\n",
      "              precision    recall  f1-score   support\n",
      "\n",
      "           0       0.68      0.66      0.67      2304\n",
      "           1       0.67      0.69      0.68      2310\n",
      "\n",
      "    accuracy                           0.67      4614\n",
      "   macro avg       0.67      0.67      0.67      4614\n",
      "weighted avg       0.67      0.67      0.67      4614\n",
      "\n"
     ]
    },
    {
     "data": {
      "image/png": "[encoded data removed]",
      "text/plain": [
       "<Figure size 800x500 with 1 Axes>"
      ]
     },
     "metadata": {},
     "output_type": "display_data"
    }
   ],
   "source": [
    "import yfinance as yf\n",
    "import pandas as pd\n",
    "import numpy as np\n",
    "from sklearn.ensemble import RandomForestClassifier as rf\n",
    "from sklearn.metrics import classification_report, confusion_matrix\n",
    "from sklearn.model_selection import train_test_split, GridSearchCV\n",
    "from sklearn.utils import resample\n",
    "\n",
    "# Fetch data\n",
    "sp500 = yf.Ticker(\"^GSPC\")\n",
    "data = sp500.history(period=\"max\")\n",
    "\n",
    "# Preprocess and clean data\n",
    "data[\"Tomorrow\"] = data[\"Close\"].shift(-1)\n",
    "data['Target'] = (data[\"Tomorrow\"] > data[\"Close\"]).astype(int)\n",
    "data.dropna(inplace=True)  # Remove rows with NaN values\n",
    "\n",
    "# Feature Engineering\n",
    "data['MA_5'] = data['Close'].rolling(window=5).mean()\n",
    "data['MA_30'] = data['Close'].rolling(window=30).mean()\n",
    "delta = data['Close'].diff()\n",
    "gain = (delta.where(delta > 0, 0)).rolling(window=14).mean()\n",
    "loss = (-delta.where(delta < 0, 0)).rolling(window=14).mean()\n",
    "rs = gain / loss\n",
    "data['RSI'] = 100 - (100 / (1 + rs))\n",
    "\n",
    "# Separate majority and minority classes\n",
    "majority = data[data['Target'] == 0]\n",
    "minority = data[data['Target'] == 1]\n",
    "\n",
    "# Balance classes by oversampling minority\n",
    "minority_upsampled = resample(minority, replace=True, n_samples=len(majority), random_state=123)\n",
    "data_balanced = pd.concat([majority, minority_upsampled])\n",
    "data_balanced = data_balanced.sample(frac=1, random_state=123)  # Shuffle\n",
    "\n",
    "# Split data into training and testing sets\n",
    "predictors = ['Close', 'Volume', 'MA_5', 'MA_30', 'RSI']\n",
    "X_train, X_test, y_train, y_test = train_test_split(data_balanced[predictors], data_balanced['Target'], test_size=0.2, random_state=123)\n",
    "\n",
    "# Model training with hyperparameter tuning\n",
    "param_grid = {\n",
    "    'n_estimators': [100, 200],\n",
    "    'max_depth': [None, 10, 20],\n",
    "    'min_samples_leaf': [1, 2, 4],\n",
    "    'class_weight': ['balanced']\n",
    "}\n",
    "\n",
    "grid_search = GridSearchCV(estimator=rf(), param_grid=param_grid, cv=3, scoring='accuracy', verbose=1)\n",
    "grid_search.fit(X_train, y_train)\n",
    "\n",
    "# Best model\n",
    "model = grid_search.best_estimator_\n",
    "\n",
    "# Predictions\n",
    "predictions = model.predict(X_test)\n",
    "\n",
    "# Evaluation\n",
    "print(confusion_matrix(y_test, predictions))\n",
    "print(classification_report(y_test, predictions))\n",
    "\n",
    "# Feature importance\n",
    "import matplotlib.pyplot as plt\n",
    "\n",
    "feature_importances = model.feature_importances_\n",
    "indices = np.argsort(feature_importances)\n",
    "plt.figure(figsize=(8, 5))\n",
    "plt.title('Feature Importances')\n",
    "plt.barh(range(len(indices)), feature_importances[indices], color='b', align='center')\n",
    "plt.yticks(range(len(indices)), [predictors[i] for i in indices])\n",
    "plt.xlabel('Relative Importance')\n",
    "plt.show()\n"
   ]
  }
 ],
 "metadata": {
  "kernelspec": {
   "display_name": "ML_Project",
   "language": "python",
   "name": "python3"
  },
  "language_info": {
   "codemirror_mode": {
    "name": "ipython",
    "version": 3
   },
   "file_extension": ".py",
   "mimetype": "text/x-python",
   "name": "python",
   "nbconvert_exporter": "python",
   "pygments_lexer": "ipython3",
   "version": "3.9.19"
  }
 },
 "nbformat": 4,
 "nbformat_minor": 2
}
